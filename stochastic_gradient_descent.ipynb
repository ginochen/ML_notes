{
 "cells": [
  {
   "cell_type": "markdown",
   "metadata": {},
   "source": [
    "# Stochastic gradient descent (SGD)\n",
    "\n",
    "Let's start from batch gradient descent, where \"batch\" just means using the entire available samples to perform a single parameter update:\n"
   ]
  },
  {
   "cell_type": "markdown",
   "metadata": {},
   "source": [
    "> Repeat for all $j=0,...,n$ { \n",
    "\n",
    ">> $\\theta_j = \\theta_j - \\alpha \\frac{1}{m} \\sum_i (h^i(x^i) - y^i)x_j^i$.\n"
   ]
  },
  {
   "cell_type": "markdown",
   "metadata": {},
   "source": [
    "j: dim index, \n",
    "\n",
    "i: sample index, \n",
    "\n",
    "$\\alpha$: learning rate, \n",
    "\n",
    "$h^i(x^i) = \\sum_j^i (\\theta_j x_j^i)$: the linear approximator of y^i."
   ]
  },
  {
   "cell_type": "markdown",
   "metadata": {},
   "source": [
    "The last term is the loss function slope $\\frac{dL}{d\\theta_j}$ averaged over the\n",
    "entire batch, which is super expensive compared to SGD when we have a large\n",
    "sample size.\n",
    "\n",
    "\n",
    "Therefore, SGD reduces the update to:"
   ]
  },
  {
   "cell_type": "markdown",
   "metadata": {},
   "source": [
    "> Repeat for j=0,...,n {\n",
    "\n",
    ">> for i=1,...,m {\n",
    " \n",
    ">>> $\\theta_j = \\theta_j - \\alpha (h^i(x^i) - y^i)x_j^i$, \n"
   ]
  },
  {
   "cell_type": "markdown",
   "metadata": {},
   "source": [
    "by randomly shuffle dataset (reduce correlation between updates) to speed up the optimization convergence rate."
   ]
  },
  {
   "cell_type": "markdown",
   "metadata": {},
   "source": [
    "# Reference\n",
    "[stochastic gradient descent by Andrew Ng](https://www.youtube.com/watch?v=W9iWNJNFzQI)"
   ]
  },
  {
   "cell_type": "code",
   "execution_count": null,
   "metadata": {},
   "outputs": [],
   "source": []
  }
 ],
 "metadata": {
  "kernelspec": {
   "display_name": "Python 3",
   "language": "python",
   "name": "python3"
  },
  "language_info": {
   "codemirror_mode": {
    "name": "ipython",
    "version": 3
   },
   "file_extension": ".py",
   "mimetype": "text/x-python",
   "name": "python",
   "nbconvert_exporter": "python",
   "pygments_lexer": "ipython3",
   "version": "3.5.0"
  }
 },
 "nbformat": 4,
 "nbformat_minor": 2
}
